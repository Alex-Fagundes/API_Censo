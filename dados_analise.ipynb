{
 "cells": [
  {
   "cell_type": "markdown",
   "metadata": {},
   "source": [
    "## Importação dos dados"
   ]
  },
  {
   "cell_type": "code",
   "execution_count": 54,
   "metadata": {},
   "outputs": [
    {
     "name": "stderr",
     "output_type": "stream",
     "text": [
      "C:\\Users\\lords\\AppData\\Local\\Temp\\ipykernel_6556\\567196057.py:4: DtypeWarning: Columns (31) have mixed types. Specify dtype option on import or set low_memory=False.\n",
      "  ed_basica_2023 = pd.read_csv(\"microdados_ed_basica_2023.csv\", sep=';', encoding='latin-1')\n"
     ]
    }
   ],
   "source": [
    "import pandas as pd\n",
    "\n",
    "\n",
    "ed_basica_2023 = pd.read_csv(\"microdados_ed_basica_2023.csv\", sep=';', encoding='latin-1')\n",
    "tecnicos_2023 = pd.read_csv(\"suplemento_cursos_tecnicos_2023.csv\", sep=';', encoding='latin-1')"
   ]
  },
  {
   "cell_type": "markdown",
   "metadata": {},
   "source": [
    "## Filtragem e concatenação"
   ]
  },
  {
   "cell_type": "code",
   "execution_count": 56,
   "metadata": {},
   "outputs": [
    {
     "name": "stderr",
     "output_type": "stream",
     "text": [
      "C:\\Users\\lords\\AppData\\Local\\Temp\\ipykernel_6556\\1348103843.py:2: SettingWithCopyWarning: \n",
      "A value is trying to be set on a copy of a slice from a DataFrame\n",
      "\n",
      "See the caveats in the documentation: https://pandas.pydata.org/pandas-docs/stable/user_guide/indexing.html#returning-a-view-versus-a-copy\n",
      "  ed_basica_2023_filtrada.drop_duplicates(inplace=True)\n",
      "C:\\Users\\lords\\AppData\\Local\\Temp\\ipykernel_6556\\1348103843.py:5: SettingWithCopyWarning: \n",
      "A value is trying to be set on a copy of a slice from a DataFrame\n",
      "\n",
      "See the caveats in the documentation: https://pandas.pydata.org/pandas-docs/stable/user_guide/indexing.html#returning-a-view-versus-a-copy\n",
      "  tecnicos_2023_filtrada.drop_duplicates(inplace=True)\n"
     ]
    }
   ],
   "source": [
    "ed_basica_2023_filtrada = ed_basica_2023.iloc[:, [0, 1, 3, 4, 6, 17, 18, 19]]\n",
    "ed_basica_2023_filtrada.drop_duplicates(inplace=True)\n",
    "\n",
    "tecnicos_2023_filtrada = tecnicos_2023.iloc[:, [0, 1, 3, 4, 6, 10, 11, 12]]\n",
    "tecnicos_2023_filtrada.drop_duplicates(inplace=True)"
   ]
  },
  {
   "cell_type": "code",
   "execution_count": 58,
   "metadata": {},
   "outputs": [
    {
     "name": "stderr",
     "output_type": "stream",
     "text": [
      "C:\\Users\\lords\\AppData\\Local\\Temp\\ipykernel_6556\\1751086641.py:2: SettingWithCopyWarning: \n",
      "A value is trying to be set on a copy of a slice from a DataFrame.\n",
      "Try using .loc[row_indexer,col_indexer] = value instead\n",
      "\n",
      "See the caveats in the documentation: https://pandas.pydata.org/pandas-docs/stable/user_guide/indexing.html#returning-a-view-versus-a-copy\n",
      "  ed_basica_2023_filtrada['ensino'] = 'básico'\n",
      "C:\\Users\\lords\\AppData\\Local\\Temp\\ipykernel_6556\\1751086641.py:3: SettingWithCopyWarning: \n",
      "A value is trying to be set on a copy of a slice from a DataFrame.\n",
      "Try using .loc[row_indexer,col_indexer] = value instead\n",
      "\n",
      "See the caveats in the documentation: https://pandas.pydata.org/pandas-docs/stable/user_guide/indexing.html#returning-a-view-versus-a-copy\n",
      "  tecnicos_2023_filtrada['ensino'] = 'técnico'\n"
     ]
    }
   ],
   "source": [
    "# Criando uma coluna para armazenar o tipo de ensino fornecido pela entidade (básico, técnico, ambos)\n",
    "ed_basica_2023_filtrada['ensino'] = 'básico'\n",
    "tecnicos_2023_filtrada['ensino'] = 'técnico'"
   ]
  },
  {
   "cell_type": "code",
   "execution_count": 60,
   "metadata": {},
   "outputs": [],
   "source": [
    "dados_aux = pd.concat([ed_basica_2023_filtrada, tecnicos_2023_filtrada])"
   ]
  },
  {
   "cell_type": "code",
   "execution_count": 61,
   "metadata": {},
   "outputs": [],
   "source": [
    "# Eliminado duplicatas após a concatenação e adicionando na coluna 'ensino' a informação sobre ambos os tipos de ensino\n",
    "dados_2023 = dados_aux.drop_duplicates(subset='CO_ENTIDADE')\n",
    "linhas_repetidas = dados_aux[dados_aux.duplicated(keep=False, subset='CO_ENTIDADE')]\n",
    "dados_2023.loc[dados_2023.index.isin(linhas_repetidas.index), 'ensino'] = 'básico e técnico'"
   ]
  },
  {
   "cell_type": "markdown",
   "metadata": {},
   "source": [
    "## Padronização"
   ]
  },
  {
   "cell_type": "code",
   "execution_count": 62,
   "metadata": {},
   "outputs": [],
   "source": [
    "novo_cabecalho = {'NU_ANO_CENSO': 'ano_censo',\n",
    "                  'NO_REGIAO': 'regiao',\n",
    "                  'NO_UF': 'uf',\n",
    "                  'SG_UF': 'sigla_uf',\n",
    "                  'NO_MUNICIPIO': 'municipio',\n",
    "                  'NO_ENTIDADE': 'entidade',\n",
    "                  'CO_ENTIDADE': 'codigo_entidade',\n",
    "                  'TP_DEPENDENCIA': 'administracao',\n",
    "                 }\n",
    "dados_2023 = dados_2023.rename(columns=novo_cabecalho)\n",
    "\n",
    "depen_adm = {1: 'federal',\n",
    "             2: 'estadual',\n",
    "             3: 'municipal',\n",
    "             4: 'privada',\n",
    "            }\n",
    "dados_2023['administracao'] = dados_2023['administracao'].replace(depen_adm)"
   ]
  },
  {
   "cell_type": "code",
   "execution_count": null,
   "metadata": {},
   "outputs": [],
   "source": []
  }
 ],
 "metadata": {
  "kernelspec": {
   "display_name": "Python 3 (ipykernel)",
   "language": "python",
   "name": "python3"
  },
  "language_info": {
   "codemirror_mode": {
    "name": "ipython",
    "version": 3
   },
   "file_extension": ".py",
   "mimetype": "text/x-python",
   "name": "python",
   "nbconvert_exporter": "python",
   "pygments_lexer": "ipython3",
   "version": "3.9.13"
  }
 },
 "nbformat": 4,
 "nbformat_minor": 2
}
